{
 "cells": [
  {
   "cell_type": "markdown",
   "metadata": {},
   "source": [
    "## The Network Class"
   ]
  },
  {
   "cell_type": "code",
   "execution_count": null,
   "metadata": {},
   "outputs": [],
   "source": [
    "import numpy as np\n",
    "import random\n",
    "\n",
    "class Network(object):\n",
    "    def __init__(self,sizes):\n",
    "        self.num_layers = len(sizes)\n",
    "        self.sizes = sizes\n",
    "        self.biases = [np.random.randn(y,1) for y in sizes[1:]]\n",
    "        self.weights = [np.random.randn(y,x) for x,y in zip(sizes[:-1],sizes[1:])]\n",
    "\n",
    "\n",
    "    def feedforward(self, a):\n",
    "        for b,w in zip(self.biases,self.weights):\n",
    "            a = sigmoid(np.dot(w,a) +b)\n",
    "        return a\n",
    "\n",
    "    def SGD(self, training_data, epochs, mini_batch_size, alpha, test_data=None):\n",
    "  \n",
    "        if(test_data != None):\n",
    "            n_test = len(test_data)\n",
    "        n = len(training_data)\n",
    "        for j in range(epochs):\n",
    "            random.shuffle(training_data)\n",
    "            mini_batches = [training_data[k:k+mini_batch_size] for k in range(0, n, mini_batch_size) ]\n",
    "\n",
    "            for mini_batch in mini_batches:\n",
    "                self.update_mini_batch(mini_batch, alpha)\n",
    "          \n",
    "            if test_data!=None:\n",
    "                print(\"Epoch {0} : {1}/{2}\".format(j, self.evaluate(test_data), n_test))\n",
    "            else:\n",
    "                print(\"Epoch {0} Complete\".format(j))\n",
    "  \n",
    "    def update_mini_batch(self, mini_batch, alpha):\n",
    "        nabla_b = [ np.zeros(b.shape) for b in self.biases ]\n",
    "        nabla_w = [ np.zeros(w.shape) for w in self.weights ]\n",
    "      \n",
    "        for x,y in mini_batch:\n",
    "            delta_nabla_b, delta_nabla_w = self.backprop(x,y)\n",
    "            nabla_b = [ nb+dnb for nb,dnb in zip(nabla_b, delta_nabla_b) ]\n",
    "            nabla_w = [ nw+dnw for nw,dnw in zip(nabla_w, delta_nabla_w) ]\n",
    "        self.weights = [ w - (alpha/len(mini_batch))*nw for w,nw in zip(self.weights, nabla_w) ]\n",
    "        self.biases = [ b - (alpha/len(mini_batch))*nb for b,nb in zip(self.biases, nabla_b) ]\n",
    "    \n",
    "    def backprop(self,x,y):\n",
    "        nabla_b = [np.zeros(b.shape) for b in self.biases]\n",
    "        nabla_w = [np.zeros(w.shape) for w in self.weights]\n",
    "  \n",
    "        # x = x.reshape(-1,1)\n",
    "        activation = x\n",
    "        activations = [x]\n",
    "        zs = []\n",
    "  \n",
    "        for b,w in zip(self.biases,self.weights):\n",
    "            z = np.dot(w, activation) + b\n",
    "            zs.append(z)\n",
    "            activation = sigmoid(z)\n",
    "            activations.append(activation)\n",
    "    \n",
    "        ## backward pass\n",
    "        delta = self.cost_derivative(activations[-1], y)*sigmoid_prime(zs[-1])\n",
    "        nabla_b[-1] = delta\n",
    "        nabla_w[-1] = np.dot(delta, activations[-2].T)\n",
    "  \n",
    "        for l in range(2, self.num_layers):\n",
    "            z = zs[-l]\n",
    "            sp = sigmoid_prime(z)\n",
    "            delta = np.dot(self.weights[-l+1].transpose(), delta) * sp\n",
    "            nabla_b[-l] = delta\n",
    "            nabla_w[-l] = np.dot(delta, activations[-l-1].transpose())\n",
    "        return (nabla_b, nabla_w)\n",
    "      \n",
    "    def evaluate(self, test_data):\n",
    "        test_results = [ (np.argmax(self.feedforward(x)), y) for (x,y) in test_data ]\n",
    "        return sum(int(x==y) for (x,y) in test_results)\n",
    "\n",
    "    def cost_derivative(self,output_activations,y):\n",
    "        target = np.zeros((10,1))\n",
    "        target[y] = 1\n",
    "        return (output_activations - target)\n",
    "        #return (output_activations - y)\n",
    "\n",
    "def sigmoid(z):\n",
    "    return 1.0/(1.0 + np.exp(-z))\n",
    "\n",
    "def sigmoid_prime(z):\n",
    "    return sigmoid(z)*(1-sigmoid(z))"
   ]
  },
  {
   "cell_type": "markdown",
   "metadata": {},
   "source": [
    "## Loading the Data CSV Files"
   ]
  },
  {
   "cell_type": "code",
   "execution_count": null,
   "metadata": {},
   "outputs": [],
   "source": [
    "import pandas as pd\n",
    "train_data = pd.read_csv(r'FILE PATH\\train.csv')\n",
    "test_data = pd.read_csv(r'FILE PATH\\test.csv')"
   ]
  },
  {
   "cell_type": "markdown",
   "metadata": {},
   "source": [
    "## Creating the Training Data List\n",
    "### The List of Tuples of (x,y) of each example"
   ]
  },
  {
   "cell_type": "code",
   "execution_count": 83,
   "metadata": {},
   "outputs": [],
   "source": [
    "## number of examples in the training data\n",
    "m = train_data.shape[0]\n",
    "\n",
    "## getting the pixel values and labels and storing them in x and y respectively\n",
    "y = train_data['label'].values\n",
    "x = train_data.iloc[:, 1:].values\n",
    "\n",
    "## normalizing the pixel values x\n",
    "x = x/255\n",
    "\n",
    "## creating an empty list to store the tuples of (x,y) of each example\n",
    "data = []\n",
    "\n",
    "\n",
    "for i in range(m):\n",
    "    ## appending the 'data' list with tuples of (x,y) for each example\n",
    "    xx = x[i,:].reshape(-1,1)\n",
    "    yy = y[i].reshape(-1,1)\n",
    "    data.append((xx,yy))"
   ]
  },
  {
   "cell_type": "markdown",
   "metadata": {},
   "source": [
    "## Running the Network\n",
    "### Making A Net object and calling the SGD() Function"
   ]
  },
  {
   "cell_type": "code",
   "execution_count": 84,
   "metadata": {},
   "outputs": [
    {
     "name": "stdout",
     "output_type": "stream",
     "text": [
      "Epoch 0 Complete\n",
      "Epoch 1 Complete\n",
      "Epoch 2 Complete\n",
      "Epoch 3 Complete\n",
      "Epoch 4 Complete\n",
      "Epoch 5 Complete\n",
      "Epoch 6 Complete\n",
      "Epoch 7 Complete\n",
      "Epoch 8 Complete\n",
      "Epoch 9 Complete\n",
      "Epoch 10 Complete\n",
      "Epoch 11 Complete\n",
      "Epoch 12 Complete\n",
      "Epoch 13 Complete\n",
      "Epoch 14 Complete\n",
      "Epoch 15 Complete\n",
      "Epoch 16 Complete\n",
      "Epoch 17 Complete\n",
      "Epoch 18 Complete\n",
      "Epoch 19 Complete\n"
     ]
    }
   ],
   "source": [
    "## A Neural Net with one hidden layer of 30 neurons\n",
    "net = Network([784,30,10])\n",
    "net.SGD(training_data = data, epochs = 20, mini_batch_size = 10, alpha = 3.0, test_data = None)"
   ]
  },
  {
   "cell_type": "markdown",
   "metadata": {},
   "source": [
    "## Doing Predictions For The Test Set"
   ]
  },
  {
   "cell_type": "code",
   "execution_count": 85,
   "metadata": {},
   "outputs": [],
   "source": [
    "## number of exmaples in the test set\n",
    "m_test = test_data.shape[0]\n",
    "\n",
    "## making a numpy array of the test_data dataframe\n",
    "x_test = test_data.values\n",
    "\n",
    "## normalizing the images in the test set\n",
    "x_test = x_test/255\n",
    "\n",
    "## making an empty array for the storing the predictions for the each example in the test set\n",
    "predictions = []\n",
    "\n",
    "## for each example in the test set\n",
    "for i in range(m_test):\n",
    "    ## reshaping the rank-1 python array o/w it would give some real nasty error\n",
    "    xxx = x_test[i,:].reshape(-1,1)\n",
    "    ## doing a forward pass with the new updated weights and making the predictions\n",
    "    pred = np.argmax(net.feedforward(xxx))\n",
    "    ## storing the predictions\n",
    "    predictions.append(pred)"
   ]
  },
  {
   "cell_type": "markdown",
   "metadata": {},
   "source": [
    "## Making A CSV File of our Predictions"
   ]
  },
  {
   "cell_type": "code",
   "execution_count": 86,
   "metadata": {},
   "outputs": [],
   "source": [
    "ddf = pd.DataFrame({'ImageId':[i+1 for i in range(m_test)],'label':predictions})\n",
    "ddf.to_csv(r'FILE PATH\\kagle_submission.csv',index=False)"
   ]
  }
 ],
 "metadata": {
  "kernelspec": {
   "display_name": "Python 3",
   "language": "python",
   "name": "python3"
  },
  "language_info": {
   "codemirror_mode": {
    "name": "ipython",
    "version": 3
   },
   "file_extension": ".py",
   "mimetype": "text/x-python",
   "name": "python",
   "nbconvert_exporter": "python",
   "pygments_lexer": "ipython3",
   "version": "3.6.1"
  }
 },
 "nbformat": 4,
 "nbformat_minor": 2
}
