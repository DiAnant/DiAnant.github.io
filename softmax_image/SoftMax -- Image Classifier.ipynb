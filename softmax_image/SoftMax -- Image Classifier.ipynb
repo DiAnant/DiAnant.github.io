{
 "cells": [
  {
   "cell_type": "markdown",
   "metadata": {},
   "source": [
    "## Softmax Classifier \n",
    "### Loading Necessary Libraries"
   ]
  },
  {
   "cell_type": "code",
   "execution_count": 79,
   "metadata": {},
   "outputs": [],
   "source": [
    "## importing stuff\n",
    "import time\n",
    "import random\n",
    "import numpy as np\n",
    "import tensorflow as tf\n",
    "from matplotlib import pyplot as plt\n",
    "from cs231n.data_utils import load_CIFAR10"
   ]
  },
  {
   "cell_type": "markdown",
   "metadata": {},
   "source": [
    "### Loading Data And Dividing it into differenet sets"
   ]
  },
  {
   "cell_type": "code",
   "execution_count": 80,
   "metadata": {},
   "outputs": [
    {
     "name": "stdout",
     "output_type": "stream",
     "text": [
      "Train Data Shape:         (49000, 3073)\n",
      "Train Labels Shape:       (49000,)\n",
      "Validation Data Shape:    (1000, 3073)\n",
      "Validation Labels Shape:  (1000,)\n",
      "Test Data Shape:          (1000, 3073)\n",
      "Test Labels Shape:        (1000,)\n",
      "Dev Data Shape:           (500, 3073)\n",
      "Dev Labels Shape:         (500,)\n"
     ]
    }
   ],
   "source": [
    "# ## loading data\n",
    "# cifar = tf.keras.datasets.cifar10\n",
    "# (x_train, y_train), (x_test, y_test) = cifar.load_data()\n",
    "\n",
    "## loading data from cs231n batch files\n",
    "cifar10_dir = 'cs231n/datasets/cifar-10-batches-py'\n",
    "x_train, y_train, x_test, y_test = load_CIFAR10(cifar10_dir)\n",
    "\n",
    "\n",
    "## setting up numbers of elements for each set\n",
    "num_training = 49000\n",
    "num_validation = 1000\n",
    "num_test = 1000\n",
    "num_dev = 500\n",
    "\n",
    "## subsmampling the data for each of the sets one by one\n",
    "\n",
    "## validation data\n",
    "mask = list(range(num_training, num_training + num_validation))\n",
    "x_val, y_val = x_train[mask], y_train[mask]\n",
    "\n",
    "## training data\n",
    "mask = list(range(num_training))\n",
    "x_train, y_train = x_train[mask], y_train[mask]\n",
    "\n",
    "## test data\n",
    "mask = list(range(num_test))\n",
    "x_test, y_test = x_test[mask], y_test[mask]\n",
    "\n",
    "## dev set data\n",
    "## dev set data is a subset of the training data created for fast computation of the notebook.\n",
    "mask = np.random.choice(num_training, num_dev, replace = False)\n",
    "x_dev, y_dev = x_train[mask], y_train[mask]\n",
    "\n",
    "\n",
    "### Preprocessing : Reshaping the data into rows\n",
    "x_train = x_train.reshape(x_train.shape[0], -1)\n",
    "x_test = x_test.reshape(x_test.shape[0], -1)\n",
    "x_val = x_val.reshape(x_val.shape[0], -1)\n",
    "x_dev = x_dev.reshape(x_dev.shape[0], -1)\n",
    "\n",
    "\n",
    "### Normalizing the data: Subtract The Mean Image\n",
    "mean_image = np.mean(x_train, axis = 0)\n",
    "x_train = x_train - mean_image\n",
    "x_test = x_test - mean_image\n",
    "x_val = x_val - mean_image\n",
    "x_dev = x_dev - mean_image\n",
    "\n",
    "\n",
    "### using the bias trick : adding a vector of ones\n",
    "x_train = np.hstack([x_train, np.ones((x_train.shape[0], 1))])\n",
    "x_val = np.hstack([x_val, np.ones((x_val.shape[0], 1))])\n",
    "x_dev = np.hstack([x_dev, np.ones((x_dev.shape[0], 1))])\n",
    "x_test = np.hstack([x_test, np.ones((x_test.shape[0], 1))])\n",
    "\n",
    "## experimental shit, does adding bias term ahed effects the model in any way\n",
    "# x_train = np.hstack([np.ones((x_train.shape[0], 1)) , x_train])\n",
    "# x_val = np.hstack([np.ones((x_val.shape[0], 1)) , x_val])\n",
    "# x_dev = np.hstack([np.ones((x_dev.shape[0], 1)) ,x_dev])\n",
    "# x_test = np.hstack([np.ones((x_test.shape[0], 1)) ,x_test])\n",
    "\n",
    "print('Train Data Shape:        ', x_train.shape)\n",
    "print('Train Labels Shape:      ', y_train.shape)\n",
    "print('Validation Data Shape:   ', x_val.shape)\n",
    "print('Validation Labels Shape: ', y_val.shape)\n",
    "print('Test Data Shape:         ', x_test.shape)\n",
    "print('Test Labels Shape:       ', y_test.shape)\n",
    "print('Dev Data Shape:          ', x_dev.shape)\n",
    "print('Dev Labels Shape:        ', y_dev.shape)"
   ]
  },
  {
   "cell_type": "markdown",
   "metadata": {},
   "source": [
    "## Softmax Classifier\n",
    "### Softmax Loss Naive"
   ]
  },
  {
   "cell_type": "code",
   "execution_count": 81,
   "metadata": {},
   "outputs": [
    {
     "name": "stdout",
     "output_type": "stream",
     "text": [
      "loss :  2.3656435641839306\n",
      "loss should be something around this :  2.3025850929940455\n"
     ]
    }
   ],
   "source": [
    "def softmax_loss_naive(W, x, y, reg):\n",
    "    \n",
    "    ## initializng the loss and gradient to zero\n",
    "    loss = 0.0\n",
    "    dW = np.zeros_like(W)\n",
    "    \n",
    "    ## num_class and num_train\n",
    "    num_classes = W.shape[1]\n",
    "    num_train = x.shape[0]\n",
    "    \n",
    "    for i in range(num_train):\n",
    "        \n",
    "        ## ----------------------------------------------calculating loss--------------------------------------------\n",
    "        \n",
    "        ## calculating score\n",
    "        score = np.dot(x[i], W)\n",
    "        \n",
    "        ## shift values of scores for overflow reasons\n",
    "        score -= score.max()\n",
    "        ## currently score is a row vector\n",
    "        score_expsum = np.sum(np.exp(score))\n",
    "        \n",
    "        ## correct class score exponiated\n",
    "        correct_exp = np.exp(score[y[i]])\n",
    "        \n",
    "        ## calculating loss for this example and adding it to the total loss tally\n",
    "        loss += -np.log(correct_exp/score_expsum)\n",
    "\n",
    "\n",
    "        ## ----------------------------------------------calculating gradient-----------------------------------------\n",
    "        \n",
    "        ## for correct class\n",
    "        dW[:, y[i]] += (-1) * ( (score_expsum - correct_exp) / (score_expsum) ) * (x[i])\n",
    "        \n",
    "        ## for incorrect classes\n",
    "        for j in range(num_classes):\n",
    "            \n",
    "            ## continue if correct class\n",
    "            if j == y[i]:\n",
    "                continue\n",
    "            \n",
    "            ## for incorrect\n",
    "            dW[:, j] +=  x[i] * (np.exp(score[j]) / score_expsum)\n",
    "\n",
    "    ## averaging loss over all training examples\n",
    "    loss /= num_train\n",
    "    ## adding regularization to loss\n",
    "    loss += reg * np.sum(W * W)\n",
    "    ## averaging gradient\n",
    "    dW /= num_train\n",
    "    ## adding regularization to gradient\n",
    "    dW += 2 * reg * W\n",
    "\n",
    "\n",
    "    return loss, dW\n",
    "    \n",
    "## ---------------------------------------------------function ends here-----------------------------------------------------\n",
    "        \n",
    "        \n",
    "\n",
    "## Generate a random softmax weight matrix and use it to compute loss\n",
    "W = np.random.randn(3073, 10) * 0.0001\n",
    "\n",
    "## storing initialized weight into a variable so that I can use same weights for any other computations initially\n",
    "## which will help me gain a better insight of the problem.\n",
    "initial_W = W\n",
    "\n",
    "loss, grad = softmax_loss_naive(W, x_dev, y_dev, 0.0)\n",
    "\n",
    "# As a rough sanity check, our loss should be something close to -log(1/10). i.e. 1/num_class\n",
    "print('loss : ',loss)\n",
    "print('loss should be something around this : ', (-np.log(0.1)))"
   ]
  },
  {
   "cell_type": "markdown",
   "metadata": {},
   "source": [
    "### Gradient Checking\n",
    "\n",
    "### Computing Numerical Gradient And Checking It With The Above Analytically Computed Gradient <br>"
   ]
  },
  {
   "cell_type": "code",
   "execution_count": 82,
   "metadata": {},
   "outputs": [
    {
     "name": "stdout",
     "output_type": "stream",
     "text": [
      "Numerical : 3.321923241728086 Analytic : 3.3219229814215328 , Relative : 3.9180099065871316e-08 \n",
      "Numerical : -1.1534561645376584 Analytic : -1.153456187566482 , Relative : 9.982530759691742e-09 \n",
      "Numerical : -0.553201978181761 Analytic : -0.5532020152525577 , Relative : 3.350566066790553e-08 \n",
      "Numerical : 0.8345882901883427 Analytic : 0.8345882479048582 , Relative : 2.5331942743358483e-08 \n",
      "Numerical : -1.6696505077629096 Analytic : -1.6696505813467015 , Relative : 2.2035686505936127e-08 \n",
      "Numerical : 0.8718600235546602 Analytic : 0.8718599768792742 , Relative : 2.6767706965026762e-08 \n",
      "Numerical : -2.2103868960954287 Analytic : -2.210387071505627 , Relative : 3.967861728556281e-08 \n",
      "Numerical : -0.3819620846057247 Analytic : -0.38196213199604384 , Relative : 6.203536696898208e-08 \n",
      "Numerical : -1.2103524106077401 Analytic : -1.210352509683293 , Relative : 4.09283890995713e-08 \n",
      "Numerical : 1.575960465283188 Analytic : 1.5759603665688806 , Relative : 3.1318777552207125e-08 \n"
     ]
    }
   ],
   "source": [
    "from random import randrange\n",
    "\n",
    "## this function checks numerical and analytic gadients for a function f and parameter x .... [ f'(x) numerically ]\n",
    "\n",
    "def grad_check(f, x, analytic_grad, num_checks = 10, h = 1e-5):\n",
    "    \n",
    "    for _ in range(num_checks):\n",
    "        ## we'll pick random number of rows and columns in x\n",
    "        ix = tuple([randrange(m) for m in x.shape])\n",
    "        \n",
    "        ## old value is stored in a variable 'oldval'\n",
    "        oldval = x[ix]\n",
    "        \n",
    "        ## x[ix] is increased by h\n",
    "        x[ix] = oldval + h\n",
    "        \n",
    "        ## increment was done only on x[ix] but f calculation will be of f(x) in which h has already been added\n",
    "        fxph = f(x)\n",
    "        \n",
    "        ## same process as above for decrement of h from x[ix]\n",
    "\n",
    "        x[ix] = oldval - h\n",
    "        ## calculatiing f(x) where x --> x[ix] = oldval- h\n",
    "        fxmh = f(x)\n",
    "        \n",
    "        ## changing value of x[ix] back to 'oldval'\n",
    "        x[ix] = oldval\n",
    "        \n",
    "        ## mean - centric grad_numerical\n",
    "        grad_numerical = (fxph - fxmh)/ (2*h)\n",
    "        \n",
    "        ## analytic gradient \n",
    "        grad_analytic = analytic_grad[ix]\n",
    "        \n",
    "        ## relative error\n",
    "        rel_error = abs( grad_numerical - grad_analytic ) / ( abs(grad_numerical) + abs(grad_analytic) )\n",
    "        \n",
    "        print('Numerical : {} Analytic : {} , Relative : {} '.format(grad_numerical, grad_analytic, rel_error))\n",
    "       \n",
    "    \n",
    "## calculating analytic gradient and cost using softmax_loss_vectorized() function        \n",
    "loss, grad = softmax_loss_naive(W, x_dev, y_dev, 1e2)\n",
    "\n",
    "## the function f which returns 'softmax loss' for a particular 'w'\n",
    "f = lambda w : softmax_loss_naive(w, x_dev, y_dev, 1e2)[0] \n",
    "\n",
    "## calling the above grad_check() function\n",
    "grad_numerical = grad_check(f, W, grad)        "
   ]
  },
  {
   "cell_type": "markdown",
   "metadata": {},
   "source": [
    "## Softmax Classifier\n",
    "### Implementing the vectorized code for Softmax Loss and gradient"
   ]
  },
  {
   "cell_type": "code",
   "execution_count": 83,
   "metadata": {},
   "outputs": [
    {
     "name": "stdout",
     "output_type": "stream",
     "text": [
      "2.3656435641839297\n"
     ]
    }
   ],
   "source": [
    "def softmax_loss_vectorized(W, x, y, reg):\n",
    "    \n",
    "    ## initial loss\n",
    "    loss = 0.0\n",
    "    ## intializing weight gradient dW with a matrix of all zeros\n",
    "    dW = np.zeros_like(W)\n",
    "    \n",
    "    ## number of training examples in x\n",
    "    num_train = x.shape[0]\n",
    "    ## choosing the value of delta\n",
    "    delta = 1.0\n",
    "    \n",
    "    ##--------------------------------------vectorized loss function-------------------------------------------------\n",
    "    \n",
    "    ## x is (num_train,3073) and w is (3073,10) and hence score will be (num_train,10)\n",
    "    ## this means score will have class score for each training example for all classes    \n",
    "    scores = np.dot(x,W)\n",
    "    \n",
    "    ## shift values of scores for overflow reasons\n",
    "    scores -= scores.max()\n",
    "    \n",
    "    ## exponiating the scores (num_train, 10)\n",
    "    scores = np.exp(scores)\n",
    "    \n",
    "    ## score sum for each example (num_train, 1)\n",
    "    scores_sums = np.sum(scores, axis = 1)\n",
    "    \n",
    "    ## correct exponiated scores (num_train, 1)\n",
    "    correct = scores[ range(num_train), y]\n",
    "    \n",
    "    ## calculating loss\n",
    "    loss = correct / scores_sums\n",
    "    loss = -np.sum(np.log(loss))/num_train  + reg * np.sum(W*W)\n",
    "    \n",
    "    ##--------------------------------------vectorized grad function-------------------------------------------------\n",
    "    \n",
    "    s = np.divide(scores, scores_sums.reshape(num_train, 1))\n",
    "    s[range(num_train), y] = - (scores_sums - correct) / scores_sums\n",
    "    dW = x.transpose().dot(s)\n",
    "    dW /= num_train\n",
    "    dW += 2 * reg * W\n",
    "    \n",
    "    return loss, dW\n",
    "\n",
    "## Generating a random weight matrix of small numbers\n",
    "## 3073 for image size and 10 because of number of classes\n",
    "W = np.random.randn(3073, 10) * 0.0001\n",
    "\n",
    "## using the initialized value of W\n",
    "W = initial_W\n",
    "\n",
    "## calling the softmax_loss_vectorized function\n",
    "loss, grad = softmax_loss_vectorized(W, x_dev, y_dev, reg = 0.0)\n",
    "print(loss)"
   ]
  },
  {
   "cell_type": "markdown",
   "metadata": {},
   "source": [
    "### Comparing Both The Naive And Vectorized Implementations"
   ]
  },
  {
   "cell_type": "code",
   "execution_count": 84,
   "metadata": {},
   "outputs": [
    {
     "name": "stdout",
     "output_type": "stream",
     "text": [
      "Naive Loss: 2.365643565720175 computed in 0.2254776954650879s\n",
      "Vectorized Loss: 2.365643565720175 computed in 0.007008075714111328s\n",
      "Loss difference: 8.881784197001252e-16\n",
      "Gradient difference: 2.3342209697386033e-13\n",
      "\n",
      "\n",
      "Vectorized Code is About 33 times faster than the Naive Implementation When we are using development set.\n"
     ]
    }
   ],
   "source": [
    "tic = time.time()\n",
    "loss_naive, grad_naive = softmax_loss_naive(W, x_dev, y_dev, 0.000005)\n",
    "toc = time.time()\n",
    "naive_time = toc - tic\n",
    "print('Naive Loss: {} computed in {}s'.format(loss_naive, naive_time))\n",
    "\n",
    "tic = time.time()\n",
    "loss_vectorized, grad_vectorized = softmax_loss_vectorized(W, x_dev, y_dev, 0.000005)\n",
    "toc = time.time()\n",
    "vectorized_time = toc - tic\n",
    "print('Vectorized Loss: {} computed in {}s'.format(loss_naive, vectorized_time))\n",
    "\n",
    "# As we did for the SVM, we use the Frobenius norm to compare the two versions\n",
    "# of the gradient.\n",
    "grad_difference = np.linalg.norm(grad_naive - grad_vectorized, ord='fro')\n",
    "print('Loss difference: {}'.format(np.abs(loss_naive - loss_vectorized)))\n",
    "print('Gradient difference: {}'.format(grad_difference))\n",
    "\n",
    "print('\\n\\nVectorized Code is About {} times faster than the Naive Implementation When we are using development set.'.format(int(naive_time/vectorized_time) + 1))"
   ]
  },
  {
   "cell_type": "markdown",
   "metadata": {},
   "source": [
    "### Stochastic Gradient Descent \n",
    "### Applying Gradient Descent to optimize the weights and hence train the network <br>"
   ]
  },
  {
   "cell_type": "code",
   "execution_count": 85,
   "metadata": {},
   "outputs": [
    {
     "name": "stdout",
     "output_type": "stream",
     "text": [
      "Iteration 0/1500 : Loss 781.4808323292893\n",
      "Iteration 100/1500 : Loss 287.07615814009466\n",
      "Iteration 200/1500 : Loss 106.28925766033674\n",
      "Iteration 300/1500 : Loss 40.20388833036623\n",
      "Iteration 400/1500 : Loss 16.012885326608014\n",
      "Iteration 500/1500 : Loss 7.186568115451111\n",
      "Iteration 600/1500 : Loss 3.999669270425492\n",
      "Iteration 700/1500 : Loss 2.7052239391572135\n",
      "Iteration 800/1500 : Loss 2.3368383080218504\n",
      "Iteration 900/1500 : Loss 2.1446024645914665\n",
      "Iteration 1000/1500 : Loss 2.0703453936469156\n",
      "Iteration 1100/1500 : Loss 2.071412616750884\n",
      "Iteration 1200/1500 : Loss 2.159137224429835\n",
      "Iteration 1300/1500 : Loss 2.1216063543892947\n",
      "Iteration 1400/1500 : Loss 2.0858875834372026\n"
     ]
    }
   ],
   "source": [
    "def train(x, y, learning_rate = 1e-3, reg = 1e-5, num_iters = 100, batch_size = 200, verbose = False):\n",
    "    \n",
    "    num_train, dim = x.shape\n",
    "    ## assuming that there will be atleast one example of class (k - 1) when there are k classes from (0) to (k-1) \n",
    "    num_classes = np.max(y) + 1\n",
    "    \n",
    "    ## intializing parameters\n",
    "    W = 0.001 * np.random.randn(dim, num_classes)\n",
    "    \n",
    "    loss_history = []\n",
    "    \n",
    "    for it in range(num_iters):\n",
    "        ## sampling some random indices\n",
    "        sample_indices = np.random.choice(np.arange(num_train), batch_size)\n",
    "        \n",
    "        ## creating the batches\n",
    "        x_batch = x[sample_indices]\n",
    "        y_batch = y[sample_indices]\n",
    "        \n",
    "        ## evaluating loss and gradient\n",
    "        loss, grad = softmax_loss_vectorized(W, x_batch, y_batch, reg)\n",
    "        loss_history.append(loss)\n",
    "        \n",
    "        ## changing the weights\n",
    "        W = W - learning_rate * grad\n",
    "        \n",
    "        ## printing is verbose is true\n",
    "        if(verbose==True and it%100==0):\n",
    "            print('Iteration {}/{} : Loss {}'.format(it,num_iters,loss))\n",
    "                  \n",
    "    return loss_history, W\n",
    "        \n",
    "## calling the train function\n",
    "loss_hist, new_W = train(x_train, y_train, learning_rate = 1e-7, reg = 2.5e4, num_iters = 1500, verbose = True)\n",
    "                  \n",
    "## making new_W equal to W\n",
    "W = new_W               \n",
    "                  "
   ]
  },
  {
   "cell_type": "markdown",
   "metadata": {},
   "source": [
    "### Plotting The Loss_History Curve"
   ]
  },
  {
   "cell_type": "code",
   "execution_count": 86,
   "metadata": {},
   "outputs": [
    {
     "data": {
      "image/png": "[encoded data removed]",
      "text/plain": [
       "<Figure size 432x288 with 1 Axes>"
      ]
     },
     "metadata": {
      "needs_background": "light"
     },
     "output_type": "display_data"
    }
   ],
   "source": [
    "## plotting the graph\n",
    "plt.plot(loss_hist)\n",
    "plt.xlabel('Loss')\n",
    "plt.ylabel('Number of Iterations')\n",
    "plt.title('Loss History Graph')\n",
    "plt.show()"
   ]
  },
  {
   "cell_type": "markdown",
   "metadata": {},
   "source": [
    "### Predicting on Training And Validation Sets"
   ]
  },
  {
   "cell_type": "code",
   "execution_count": 87,
   "metadata": {},
   "outputs": [
    {
     "name": "stdout",
     "output_type": "stream",
     "text": [
      "Train Accuracy : 0.3321224489795918\n",
      "\n",
      "\n",
      "Validation Accuracy : 0.35\n",
      "\n",
      "\n"
     ]
    }
   ],
   "source": [
    "## making a function to return predictions using the trained weights\n",
    "\n",
    "def predict(x):\n",
    "    \n",
    "    y_pred = np.zeros((x.shape[1]))\n",
    "    \n",
    "    ## currently y_pred has a shape of (N,C) where C is number of classes in x i.e. this is a collection of 1 hot arrays\n",
    "    y_pred = np.dot(x, W)\n",
    "    \n",
    "    ## converting from 1 hot array to 1 dimensional array\n",
    "    y_pred = np.argmax(y_pred, axis = 1)\n",
    "    \n",
    "    return y_pred\n",
    "\n",
    "## predictions on the training set\n",
    "\n",
    "y_train_pred = predict(x_train)\n",
    "## calculating accuracy on the training set\n",
    "train_accuracy = np.mean(y_train_pred == y_train)\n",
    "print('Train Accuracy : {}\\n\\n'.format(train_accuracy))\n",
    "\n",
    "\n",
    "## predictions on the validation set\n",
    "\n",
    "y_val_pred = predict(x_val)\n",
    "## calculating accuracy on the validation set\n",
    "val_accuracy = np.mean(y_val_pred == y_val)\n",
    "print('Validation Accuracy : {}\\n\\n'.format(val_accuracy))\n"
   ]
  },
  {
   "cell_type": "markdown",
   "metadata": {},
   "source": [
    "### Tuning The Hyperparameters"
   ]
  },
  {
   "cell_type": "code",
   "execution_count": 91,
   "metadata": {},
   "outputs": [
    {
     "name": "stdout",
     "output_type": "stream",
     "text": [
      "learning rate: 1e-08, regularization: 500.0, train accuracy: 0.156265306122449, validation accuracy: 0.181 \n",
      "learning rate: 1e-08, regularization: 1000.0, train accuracy: 0.14881632653061225, validation accuracy: 0.151 \n",
      "learning rate: 1e-08, regularization: 10000.0, train accuracy: 0.14993877551020407, validation accuracy: 0.168 \n",
      "learning rate: 1e-08, regularization: 50000.0, train accuracy: 0.22440816326530613, validation accuracy: 0.229 \n",
      "learning rate: 1e-07, regularization: 500.0, train accuracy: 0.253, validation accuracy: 0.254 \n",
      "learning rate: 1e-07, regularization: 1000.0, train accuracy: 0.2630612244897959, validation accuracy: 0.284 \n",
      "learning rate: 1e-07, regularization: 10000.0, train accuracy: 0.3526326530612245, validation accuracy: 0.358 \n",
      "learning rate: 1e-07, regularization: 50000.0, train accuracy: 0.30028571428571427, validation accuracy: 0.316 \n",
      "learning rate: 5e-07, regularization: 500.0, train accuracy: 0.3642448979591837, validation accuracy: 0.365 \n",
      "learning rate: 5e-07, regularization: 1000.0, train accuracy: 0.38802040816326533, validation accuracy: 0.388 \n",
      "learning rate: 5e-07, regularization: 10000.0, train accuracy: 0.357734693877551, validation accuracy: 0.358 \n",
      "learning rate: 5e-07, regularization: 50000.0, train accuracy: 0.30251020408163265, validation accuracy: 0.324 \n",
      "learning rate: 1e-06, regularization: 500.0, train accuracy: 0.4007142857142857, validation accuracy: 0.392 \n",
      "learning rate: 1e-06, regularization: 1000.0, train accuracy: 0.4040204081632653, validation accuracy: 0.401 \n",
      "learning rate: 1e-06, regularization: 10000.0, train accuracy: 0.3492857142857143, validation accuracy: 0.371 \n",
      "learning rate: 1e-06, regularization: 50000.0, train accuracy: 0.26687755102040817, validation accuracy: 0.273 \n",
      "Best Validation Accuracy Achienved During Cross Validation is :  0.401\n"
     ]
    }
   ],
   "source": [
    "# Use the validation set to tune hyperparameters (regularization strength and\n",
    "# learning rate). You should experiment with different ranges for the learning\n",
    "# rates and regularization strengths; if you are careful you should be able to\n",
    "# get a classification accuracy of over 0.35 on the validation set.\n",
    "\n",
    "results = {}\n",
    "best_val = -1\n",
    "learning_rates = [1e-8, 1e-7, 5e-7, 1e-6]\n",
    "regularization_strengths = [5e2, 1e3, 1e4, 5e4]\n",
    "\n",
    "for lr in learning_rates:\n",
    "    for reg in regularization_strengths:\n",
    "        \n",
    "        ## calling train function()\n",
    "        loss_hist, W = train(x_train, y_train, learning_rate = lr, reg = reg, num_iters = 1500)\n",
    "        \n",
    "        ## train accuracy\n",
    "        y_train_pred = predict(x_train)\n",
    "        acc_train = np.mean(y_train == y_train_pred)\n",
    "        \n",
    "        ## validation accuracy\n",
    "        y_val_pred = predict(x_val)\n",
    "        acc_val = np.mean(y_val == y_val_pred)\n",
    "        \n",
    "        ## appending data into the dictionary\n",
    "        results[(lr, reg)] = (acc_train, acc_val)\n",
    "        \n",
    "        if acc_val > best_val:\n",
    "            best_val = acc_val\n",
    "        \n",
    "for lr,reg in sorted(results):\n",
    "    train_accuracy, val_accuracy = results[(lr, reg)]\n",
    "    print('learning rate: {}, regularization: {}, train accuracy: {}, validation accuracy: {} '.format(lr, reg, train_accuracy, val_accuracy))\n",
    "\n",
    "print(\"Best Validation Accuracy Achienved During Cross Validation is : \", best_val)"
   ]
  },
  {
   "cell_type": "code",
   "execution_count": 93,
   "metadata": {},
   "outputs": [
    {
     "name": "stdout",
     "output_type": "stream",
     "text": [
      "Iteration 0/1500 : Loss 37.21362354816587\n",
      "Iteration 100/1500 : Loss 22.93850903159185\n",
      "Iteration 200/1500 : Loss 15.583849615517943\n",
      "Iteration 300/1500 : Loss 10.933157288261494\n",
      "Iteration 400/1500 : Loss 7.94550483563213\n",
      "Iteration 500/1500 : Loss 5.778068254866871\n",
      "Iteration 600/1500 : Loss 4.516625572139345\n",
      "Iteration 700/1500 : Loss 3.617066110020545\n",
      "Iteration 800/1500 : Loss 3.0092109823271436\n",
      "Iteration 900/1500 : Loss 2.6483093179423185\n",
      "Iteration 1000/1500 : Loss 2.4725255121777123\n",
      "Iteration 1100/1500 : Loss 2.138589231445844\n",
      "Iteration 1200/1500 : Loss 2.1404539702866985\n",
      "Iteration 1300/1500 : Loss 1.889610377576432\n",
      "Iteration 1400/1500 : Loss 2.0159145773573925\n",
      "\n",
      "\n",
      "Softmax Test Set Accuracy:  0.385\n"
     ]
    }
   ],
   "source": [
    "## evaluate the best hyperparameters model on the test set\n",
    "loss_history, W = train(x_train, y_train, learning_rate = 1e-6, reg = 1000, num_iters = 1500, verbose = True)\n",
    "\n",
    "y_test_pred = predict(x_test)\n",
    "test_accuracy = np.mean(y_test == y_test_pred)\n",
    "print('\\n\\nSoftmax Test Set Accuracy: ',test_accuracy)"
   ]
  },
  {
   "cell_type": "markdown",
   "metadata": {},
   "source": [
    "### Visualize The Learned Weights For Each Class"
   ]
  },
  {
   "cell_type": "code",
   "execution_count": 99,
   "metadata": {},
   "outputs": [
    {
     "data": {
      "image/png": "[encoded data removed]",
      "text/plain": [
       "<Figure size 648x360 with 10 Axes>"
      ]
     },
     "metadata": {
      "needs_background": "light"
     },
     "output_type": "display_data"
    }
   ],
   "source": [
    "### strip out the bias\n",
    "w = W[ :-1, :]\n",
    "w = w.reshape(32, 32, 3, 10)\n",
    "\n",
    "w_min, w_max = np.min(w), np.max(w)\n",
    "\n",
    "## adjusting figure size\n",
    "plt.figure(figsize = (9,5))\n",
    "\n",
    "classes = ['plane', 'car', 'bird', 'cat', 'deer', 'dog', 'frog', 'horse', 'ship', 'truck']\n",
    "for i in range(10):\n",
    "    \n",
    "    ## adding to the subplot\n",
    "    plt.subplot(2, 5, i + 1)\n",
    "    \n",
    "    # Rescale the weights to be between 0 and 255\n",
    "    wimg = 255.0 * (w[:, :, :, i].squeeze() - w_min) / (w_max - w_min)\n",
    "    \n",
    "    plt.imshow(wimg.astype('uint8'))\n",
    "    plt.axis('off')\n",
    "    plt.title(classes[i])"
   ]
  }
 ],
 "metadata": {
  "kernelspec": {
   "display_name": "Python 3",
   "language": "python",
   "name": "python3"
  },
  "language_info": {
   "codemirror_mode": {
    "name": "ipython",
    "version": 3
   },
   "file_extension": ".py",
   "mimetype": "text/x-python",
   "name": "python",
   "nbconvert_exporter": "python",
   "pygments_lexer": "ipython3",
   "version": "3.6.1"
  }
 },
 "nbformat": 4,
 "nbformat_minor": 2
}
