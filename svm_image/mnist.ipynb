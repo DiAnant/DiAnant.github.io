{
 "cells": [
  {
   "cell_type": "markdown",
   "metadata": {},
   "source": [
    "## Importing Necessary Libraries And The Data"
   ]
  },
  {
   "cell_type": "code",
   "execution_count": 37,
   "metadata": {},
   "outputs": [],
   "source": [
    "## importing necessary libraries\n",
    "import numpy as np\n",
    "import random\n",
    "import time\n",
    "import tensorflow as tf\n",
    "from matplotlib import pyplot as plt\n",
    "\n",
    "## loading data from tensorflow datasets\n",
    "mnist = tf.keras.datasets.mnist\n",
    "(x_train,y_train),(x_test,y_test) = mnist.load_data()\n",
    "\n",
    "## changing the data_type into float\n",
    "x_train = np.array(x_train,dtype='float64')\n",
    "x_test = np.array(x_test,dtype='float64')"
   ]
  },
  {
   "cell_type": "markdown",
   "metadata": {},
   "source": [
    "## Visualizing The MNIST Data"
   ]
  },
  {
   "cell_type": "code",
   "execution_count": 38,
   "metadata": {},
   "outputs": [
    {
     "data": {
      "image/png": "[encoded data removed]",
      "text/plain": [
       "<Figure size 648x648 with 16 Axes>"
      ]
     },
     "metadata": {
      "needs_background": "light"
     },
     "output_type": "display_data"
    }
   ],
   "source": [
    "## creating a figure and deciding number of rows and columns\n",
    "fig = plt.figure(figsize=(9,9))\n",
    "columns, rows = 4, 4\n",
    "\n",
    "for i in range(1, rows*columns + 1):\n",
    "    ## generating a random image from the x_train\n",
    "    index = np.random.randint(0,48000)\n",
    "    img = x_train[index].reshape(28,28)\n",
    "    ## adding the image to the subplot\n",
    "    fig.add_subplot(rows, columns, i)\n",
    "    plt.imshow(img,cmap=plt.cm.binary)\n",
    "    \n",
    "## showing our image\n",
    "plt.show()"
   ]
  },
  {
   "cell_type": "markdown",
   "metadata": {},
   "source": [
    "## Splitting The Data\n",
    "\n",
    "### Splitting the data into training, test, validation and dev sets."
   ]
  },
  {
   "cell_type": "code",
   "execution_count": 39,
   "metadata": {},
   "outputs": [
    {
     "name": "stdout",
     "output_type": "stream",
     "text": [
      "Training Data Shape :  (60000, 28, 28)\n",
      "Training Labels Shape :  (60000,)\n",
      "Test Data Shape :  (2000, 28, 28)\n",
      "Test Labels Shape :  (2000,)\n",
      "Validation Data Shape :  (2000, 28, 28)\n",
      "Validation Labels Shape :  (2000,)\n",
      "Dev Data Shape :  (1000, 28, 28)\n",
      "Dev Labels Shape :  (1000,)\n"
     ]
    }
   ],
   "source": [
    "## decding number of examples to allot to each set\n",
    "num_training = 60000\n",
    "num_validation = 2000\n",
    "num_test = 2000\n",
    "num_dev = 1000\n",
    "\n",
    "## our training set will be the orignal training set\n",
    "## and hence we will keep our training set untouched\n",
    "\n",
    "## rest all the sets will be alloted from the test set\n",
    "## validation set\n",
    "x_val = x_test[:num_validation]\n",
    "y_val = y_test[:num_validation]\n",
    "\n",
    "## test set\n",
    "x_test = x_test[num_validation : num_validation +num_test]\n",
    "y_test = y_test[num_validation : num_validation +num_test]\n",
    "\n",
    "## dev set\n",
    "## so our dev set is actually going to be a subset of our training set \n",
    "## The dev test will help us to make us run our code faster\n",
    "mask = np.random.choice(num_training, num_dev, replace=False)\n",
    "x_dev = x_train[mask]\n",
    "y_dev = y_train[mask]\n",
    "\n",
    "## printing the dimensions of all the sets and their labels\n",
    "print(\"Training Data Shape : \",x_train.shape)\n",
    "print(\"Training Labels Shape : \",y_train.shape)\n",
    "print(\"Test Data Shape : \",x_test.shape)\n",
    "print(\"Test Labels Shape : \",y_test.shape)\n",
    "print(\"Validation Data Shape : \",x_val.shape)\n",
    "print(\"Validation Labels Shape : \",y_val.shape)\n",
    "print(\"Dev Data Shape : \",x_dev.shape)\n",
    "print(\"Dev Labels Shape : \",y_dev.shape)"
   ]
  },
  {
   "cell_type": "markdown",
   "metadata": {},
   "source": [
    "## Preprocessing Images\n",
    "### Reshaping Images into Rows"
   ]
  },
  {
   "cell_type": "code",
   "execution_count": 40,
   "metadata": {},
   "outputs": [
    {
     "name": "stdout",
     "output_type": "stream",
     "text": [
      "Training Data Shape :  (60000, 784)\n",
      "Test Data Shape :  (2000, 784)\n",
      "Validation Data Shape :  (2000, 784)\n",
      "Dev Data Shape :  (1000, 784)\n"
     ]
    }
   ],
   "source": [
    "## reshaping the images into rows\n",
    "x_train = x_train.reshape(x_train.shape[0],-1)\n",
    "x_test = x_test.reshape(x_test.shape[0],-1)\n",
    "x_dev = x_dev.reshape(x_dev.shape[0],-1)\n",
    "x_val = x_val.reshape(x_val.shape[0],-1)\n",
    "\n",
    "## as a sanity check printing the shape of the data\n",
    "print('Training Data Shape : ',x_train.shape)\n",
    "print('Test Data Shape : ',x_test.shape)\n",
    "print('Validation Data Shape : ',x_val.shape)\n",
    "print('Dev Data Shape : ',x_dev.shape)"
   ]
  },
  {
   "cell_type": "markdown",
   "metadata": {},
   "source": [
    "## Computing The Mean Image\n",
    "## So that we can later subtract it from all our data so to normalize it"
   ]
  },
  {
   "cell_type": "code",
   "execution_count": 41,
   "metadata": {},
   "outputs": [
    {
     "data": {
      "image/png": "[encoded data removed]",
      "text/plain": [
       "<Figure size 288x288 with 1 Axes>"
      ]
     },
     "metadata": {
      "needs_background": "light"
     },
     "output_type": "display_data"
    }
   ],
   "source": [
    "## computing the mean image\n",
    "mean_image = np.mean(x_train, axis = 0)\n",
    "\n",
    "## printing our mean image\n",
    "plt.figure(figsize=(4,4))\n",
    "plt.imshow(mean_image.reshape(28,28),cmap=plt.cm.binary)\n",
    "plt.show()"
   ]
  },
  {
   "cell_type": "markdown",
   "metadata": {},
   "source": [
    "## Subtracting the mean image from all of our data"
   ]
  },
  {
   "cell_type": "code",
   "execution_count": 42,
   "metadata": {},
   "outputs": [
    {
     "name": "stdout",
     "output_type": "stream",
     "text": [
      "\n",
      "\n",
      "  A Certain Image Before Mean Image Subtraction\n"
     ]
    },
    {
     "data": {
      "image/png": "[encoded data removed]",
      "text/plain": [
       "<Figure size 432x288 with 1 Axes>"
      ]
     },
     "metadata": {
      "needs_background": "light"
     },
     "output_type": "display_data"
    },
    {
     "name": "stdout",
     "output_type": "stream",
     "text": [
      "\n",
      "  Same Image After Mean Image Subtraction\n"
     ]
    },
    {
     "data": {
      "image/png": "[encoded data removed]",
      "text/plain": [
       "<Figure size 432x288 with 1 Axes>"
      ]
     },
     "metadata": {
      "needs_background": "light"
     },
     "output_type": "display_data"
    }
   ],
   "source": [
    "## prinitng a sample before and after image after subtracting mean image\n",
    "\n",
    "print('\\n\\n  A Certain Image Before Mean Image Subtraction')\n",
    "plt.imshow(x_train[1020].reshape(28,28),cmap=plt.cm.binary)\n",
    "plt.show()\n",
    "sample_image = x_train[1020] - mean_image\n",
    "plt.imshow(sample_image.reshape(28,28),cmap=plt.cm.binary)\n",
    "print('\\n  Same Image After Mean Image Subtraction')\n",
    "plt.show()\n",
    "\n",
    "## subtracting mean image from all of our sets\n",
    "x_train -= mean_image\n",
    "x_test -= mean_image\n",
    "x_dev -= mean_image\n",
    "x_val -= mean_image"
   ]
  },
  {
   "cell_type": "markdown",
   "metadata": {},
   "source": [
    "## The Bias Trick\n",
    "### Using The Bias Trick And Appending an Extra Dimension to The Weight Matrix"
   ]
  },
  {
   "cell_type": "code",
   "execution_count": 43,
   "metadata": {},
   "outputs": [
    {
     "name": "stdout",
     "output_type": "stream",
     "text": [
      "(60000, 785)   (2000, 785)   (2000, 785)   (1000, 785)  \n"
     ]
    }
   ],
   "source": [
    "## third: append the bias dimension of ones (i.e. bias trick) so that our SVM\n",
    "## only has to worry about optimizing a single weight matrix w.\n",
    "\n",
    "x_train = np.hstack([x_train, np.ones((x_train.shape[0],1))])\n",
    "x_test = np.hstack([x_test, np.ones((x_test.shape[0],1))])\n",
    "x_val = np.hstack([x_val, np.ones((x_val.shape[0],1))])\n",
    "x_dev = np.hstack([x_dev, np.ones((x_dev.shape[0],1))])\n",
    "\n",
    "## printing shapes again as a sanity check\n",
    "print(x_train.shape,\" \",x_test.shape,\" \",x_val.shape,\" \",x_dev.shape,\" \")"
   ]
  },
  {
   "cell_type": "markdown",
   "metadata": {},
   "source": [
    "## SVM Classifier \n",
    "### Implementing The Naive Code For Calculating SVM Loss and Gradients"
   ]
  },
  {
   "cell_type": "code",
   "execution_count": 44,
   "metadata": {},
   "outputs": [
    {
     "name": "stdout",
     "output_type": "stream",
     "text": [
      "9.222817083861644\n"
     ]
    }
   ],
   "source": [
    "def svm_loss_naive(W, x, y, reg):\n",
    "    \n",
    "    ## initial loss\n",
    "    loss = 0.0\n",
    "    ## initialize gradient as vector of zero\n",
    "    dW = np.zeros(W.shape)\n",
    "    \n",
    "    ## number of classes\n",
    "    num_classes = W.shape[1]\n",
    "    \n",
    "    ## number of training examples\n",
    "    num_train = x.shape[0]\n",
    "    \n",
    "    ## defining SVM margin -- delta\n",
    "    delta = 1.0\n",
    "    \n",
    "    ## ------------------------------ coding the naive loss and grad functions -------------------------------------\n",
    "    \n",
    "    for i in range(num_train):\n",
    "        \n",
    "        ## x[i] will have shape of (1, 3073) and W will have shape of (3073, 10) and their dot will give a one-hot array (1,10)\n",
    "        scores = np.dot(x[i], W)\n",
    "        \n",
    "        ## getting correct class's score\n",
    "        correct_class_score = scores[y[i]]\n",
    "        \n",
    "        ## number of classes contributing loss\n",
    "        loss_contributors_count = 0\n",
    "        \n",
    "        for j in range(num_classes):\n",
    "            \n",
    "            ## if correct class\n",
    "            if j == y[i]:\n",
    "                continue\n",
    "            \n",
    "            margin = scores[j] - correct_class_score + delta ## delta = 1\n",
    "            if margin > 0:\n",
    "                ## adding loss\n",
    "                loss = loss + margin \n",
    "                ## counting contributor terms to the loss function\n",
    "                loss_contributors_count += 1\n",
    "                \n",
    "                ## gradient for incorrect class\n",
    "                dW[:, j] += x[i]\n",
    "                \n",
    "        ## correct class gradient part\n",
    "        dW[:, y[i]] += (-1) * loss_contributors_count * (x[i])\n",
    "        \n",
    "    ## to calculate average loss and gradient over all training examples \n",
    "    loss = loss/num_train\n",
    "    dW = dW/num_train\n",
    "        \n",
    "    ## Add regularization loss to the bias\n",
    "    loss += reg* np.sum(W*W)\n",
    "        \n",
    "    dW += (2 * reg * W)\n",
    "        \n",
    "    return loss, dW\n",
    "        \n",
    "## -------------------------------------------- function ends here ---------------------------------------------------\n",
    "\n",
    "## Generating a random weight matrix of small numbers\n",
    "## 785 for image size and 10 because of number of classes\n",
    "W = np.random.randn(785,10) * 0.0001\n",
    "\n",
    "## storing initialized weight into a variable so that I can use same weights for any other computations initially\n",
    "## which will help me gain a better insight of the problem.\n",
    "initial_W = W\n",
    "\n",
    "## calling the svm_loss_vectorized function\n",
    "loss, grad = svm_loss_naive(W, x_dev, y_dev, reg = 0.000005)\n",
    "print(loss)"
   ]
  },
  {
   "cell_type": "markdown",
   "metadata": {},
   "source": [
    "## Gradient Checking\n",
    "### Computing Numerical Gradient And Checking It With The Above Analytically Computed Gradient"
   ]
  },
  {
   "cell_type": "code",
   "execution_count": 45,
   "metadata": {},
   "outputs": [
    {
     "name": "stdout",
     "output_type": "stream",
     "text": [
      "Numerical : 0.6594936993842282 Analytic : 0.6594936991867073 , Relative : 1.497519148007717e-10 \n",
      "Numerical : 0.04072063877202936 Analytic : 0.04072063972827489 , Relative : 1.1741533836585172e-08 \n",
      "Numerical : 30.629193826836595 Analytic : 30.62919382708169 , Relative : 4.000996772193235e-12 \n",
      "Numerical : -0.17428499026195252 Analytic : -0.17428499065047837 , Relative : 1.1146279704409739e-09 \n",
      "Numerical : 0.015095501648687558 Analytic : 0.015095501052277123 , Relative : 1.9754575256574182e-08 \n",
      "Numerical : -97.52607647675048 Analytic : -97.52607647675995 , Relative : 4.8595413849643163e-14 \n",
      "Numerical : 4.08644842426753 Analytic : 4.086448424111617 , Relative : 1.9076896138771156e-11 \n",
      "Numerical : 0.013869613635364429 Analytic : 0.013869614367932543 , Relative : 2.6409102435086306e-08 \n",
      "Numerical : 0.7066905165054037 Analytic : 0.7066905159094169 , Relative : 4.216745532777804e-10 \n",
      "Numerical : -69.64728750640248 Analytic : -69.64728750744464 , Relative : 7.481750393297466e-12 \n"
     ]
    }
   ],
   "source": [
    "from random import randrange\n",
    "\n",
    "## this function checks numerical and analytic gradients for a function f and parameter x .... [ f'(x) numerically ]\n",
    "def grad_check(f, x, analytic_grad, num_checks = 10, h = 1e-5):\n",
    "    \n",
    "    for _ in range(num_checks):\n",
    "        ## we'll pick random number of rows and columns in x\n",
    "        ix = tuple([randrange(m) for m in x.shape])\n",
    "    \n",
    "        ## old value stored safely in a 'oldval' variable\n",
    "        oldval = x[ix]\n",
    "        ## x[ix] is increased by h\n",
    "        x[ix] = oldval + h \n",
    "        \n",
    "        ## increment was done only on x[ix] but f calculation will be of f(x) in which h has already been added\n",
    "        fxph = f(x) \n",
    "        \n",
    "        ## same process as above for decrement of h from x[ix]\n",
    "        \n",
    "        x[ix] = oldval - h\n",
    "        ## calculatiing f(x) where x --> x[ix] = oldval- h\n",
    "        fxmh = f(x) \n",
    "        \n",
    "        ## changing value of x[ix] back to orignal\n",
    "        x[ix] = oldval\n",
    "        \n",
    "        grad_numerical = (fxph - fxmh) / (2 * h)\n",
    "\n",
    "        \n",
    "        ## analytic gradient\n",
    "        grad_analytic = analytic_grad[ix]\n",
    "        \n",
    "        ## relative error\n",
    "        rel_error = abs( grad_numerical - grad_analytic ) / ( abs(grad_numerical) + abs(grad_analytic) )\n",
    "        \n",
    "        print('Numerical : {} Analytic : {} , Relative : {} '.format(grad_numerical, grad_analytic, rel_error))\n",
    "        \n",
    "\n",
    "## calculating analytic gradient and cost using svm_loss_vectorized() function        \n",
    "loss, grad = svm_loss_naive(W, x_dev, y_dev, 1e2)\n",
    "\n",
    "## the function f which returns 'svm loss' for a particular 'w'\n",
    "f = lambda w : svm_loss_naive(w, x_dev, y_dev, 1e2)[0] \n",
    "\n",
    "## calling the above grad_check() function\n",
    "grad_numerical = grad_check(f, W, grad)"
   ]
  },
  {
   "cell_type": "markdown",
   "metadata": {},
   "source": [
    "## SVM Classifier\n",
    "### Implementing The Vectorized Code For Calculating SVM Loss and Gradients"
   ]
  },
  {
   "cell_type": "code",
   "execution_count": 46,
   "metadata": {},
   "outputs": [
    {
     "name": "stdout",
     "output_type": "stream",
     "text": [
      "9.222817083861617\n"
     ]
    }
   ],
   "source": [
    "def svm_loss_vectorized(W, x, y, reg):\n",
    "    \n",
    "    ## initial loss \n",
    "    loss = 0.0\n",
    "    ## initializing weight-gradient dW matrix with all zeros\n",
    "    dW = np.zeros(W.shape)\n",
    "    \n",
    "    ## number of training examples in x\n",
    "    num_train = x.shape[0]\n",
    "    ## choosing the value of delta\n",
    "    delta = 1.0\n",
    "    \n",
    "    ## ------------------------------- coding the vectorized loss function ------------------------------------------\n",
    "    \n",
    "    ## x is (num_train,785) and w is (785,10) and hence score will be (num_train,10)\n",
    "    ## this means score will have class score for each training example for all classes\n",
    "    scores = np.dot(x,W)\n",
    "    \n",
    "    ## getting correct class scores\n",
    "    correct = scores[np.arange(num_train), y]\n",
    "    correct = correct.reshape(num_train, -1)\n",
    "    \n",
    "    ## getting the margins for all classes (both correct and incorrect classes)\n",
    "    margins = np.maximum( 0, scores - correct + delta )\n",
    "    ## making the margins obtained from the correct classes equal to zero.\n",
    "    margins[np.arange(num_train),y] = 0\n",
    "    \n",
    "    ## calculating loss\n",
    "    loss = np.sum(margins)\n",
    "    ## getting mean loss\n",
    "    loss = loss/num_train\n",
    "    \n",
    "    ## adding the regularization term to the loss\n",
    "    loss = loss + (reg * np.sum(W*W))\n",
    "    \n",
    "    ## ------------------------------------- coding the vectorized gradient -----------------------------------------\n",
    "    \n",
    "    ## shape of 'margins' is (num_train,10) and therefore same will be of x_mask\n",
    "    x_mask = np.zeros(margins.shape)\n",
    "    \n",
    "    ## places where margins is not equal to zero will be 1\n",
    "    x_mask[margins>0] = 1\n",
    "    \n",
    "    ## for each sample counting number of classes where margins>0\n",
    "    incorrect_samples = np.sum(x_mask, axis=1)\n",
    "    \n",
    "    ## making the correct classes for each sample equal to their respective incorrect_counts\n",
    "    x_mask[np.arange(num_train), y] = -incorrect_samples\n",
    "    \n",
    "    ## dW must be equal to W.shape i.e. (3073, 10)\n",
    "    ## x.transpose is (3073, num_train) and x_mask is (num_train, 10)\n",
    "    ## Hence, dW will become (3073, 10)\n",
    "    dW = np.dot(x.transpose(),x_mask)\n",
    "    \n",
    "    ## finding the mean weights\n",
    "    dW = dW / num_train\n",
    "    ## regularizing the weights\n",
    "    dW = dW + (2 * reg * W)\n",
    "    \n",
    "    return loss,dW\n",
    "\n",
    "## -------------------------------------------- function ends here ---------------------------------------------------\n",
    "\n",
    "## Generating a random weight matrix of small numbers\n",
    "## 785 for image size and 10 because of number of classes\n",
    "W = np.random.randn(785,10) * 0.0001\n",
    "\n",
    "## using the initialized value of W\n",
    "W = initial_W\n",
    "\n",
    "## calling the svm_loss_vectorized function\n",
    "loss, grad = svm_loss_vectorized(W, x_dev, y_dev, reg = 0.000005)\n",
    "print(loss)"
   ]
  },
  {
   "cell_type": "markdown",
   "metadata": {},
   "source": [
    "### Checking the difference b/w Naive And Vectorized Implementations of Loss And Grad Functions"
   ]
  },
  {
   "cell_type": "code",
   "execution_count": 47,
   "metadata": {},
   "outputs": [
    {
     "name": "stdout",
     "output_type": "stream",
     "text": [
      "Naive Loss : 9.222817083861644 computed in 0.31222033500671387\n",
      "\n",
      "Vectorized Loss : 9.222817083861617 computed in 0.004004001617431641\n",
      "\n",
      "Loss Absolute Difference: 2.6645352591003757e-14\n",
      "\n",
      "Gradient Difference: 3.554516363569569e-11\n",
      "\n"
     ]
    }
   ],
   "source": [
    "## naive call\n",
    "tic = time.time()\n",
    "naive_loss, naive_grad = svm_loss_naive(W, x_dev, y_dev, reg = 0.000005)\n",
    "toc = time.time()\n",
    "print('Naive Loss : {} computed in {}\\n'.format(naive_loss, toc-tic))\n",
    "\n",
    "## vectorized call\n",
    "tic = time.time()\n",
    "vectorized_loss, vectorized_grad = svm_loss_vectorized(W, x_dev, y_dev, reg = 0.000005)\n",
    "toc = time.time()\n",
    "print('Vectorized Loss : {} computed in {}\\n'.format(vectorized_loss, toc-tic))\n",
    "\n",
    "print('Loss Absolute Difference: {}\\n'.format(abs(naive_loss - vectorized_loss)))      \n",
    "      \n",
    "## loss is a scalar value and hence we can just calculate and print the difference but as gradient is a matrix,\n",
    "## we will have to calculate frobenius norm to compare them.\n",
    "grad_diff = np.linalg.norm(naive_grad - vectorized_grad, ord='fro')\n",
    "print('Gradient Difference: {}\\n'.format(grad_diff))"
   ]
  },
  {
   "cell_type": "markdown",
   "metadata": {},
   "source": [
    "## Stochastic Gradient Descent\n",
    "### Applying Gradient Descent to Optimize The Weights And Hence Train The Network"
   ]
  },
  {
   "cell_type": "code",
   "execution_count": 48,
   "metadata": {},
   "outputs": [
    {
     "name": "stdout",
     "output_type": "stream",
     "text": [
      "Iteration 0/1500 : Loss 212.77269827258812\n",
      "Iteration 100/1500 : Loss 74.55321449024063\n",
      "Iteration 200/1500 : Loss 27.65726035012468\n",
      "Iteration 300/1500 : Loss 11.02194025819802\n",
      "Iteration 400/1500 : Loss 5.294474199481883\n",
      "Iteration 500/1500 : Loss 3.0203991872047853\n",
      "Iteration 600/1500 : Loss 2.2537909330400887\n",
      "Iteration 700/1500 : Loss 2.0139494873542922\n",
      "Iteration 800/1500 : Loss 1.8770782485531372\n",
      "Iteration 900/1500 : Loss 1.761315977685189\n",
      "Iteration 1000/1500 : Loss 1.8963870933528377\n",
      "Iteration 1100/1500 : Loss 2.0712858705784742\n",
      "Iteration 1200/1500 : Loss 1.7318148595609137\n",
      "Iteration 1300/1500 : Loss 1.8464361705256809\n",
      "Iteration 1400/1500 : Loss 1.6912051428902837\n"
     ]
    }
   ],
   "source": [
    "def train(x, y, learning_rate=1e-3, reg=1e-5, num_iters=100, batch_size=200, verbose =False):\n",
    "    '''\n",
    "    Training a Linear Classifier\n",
    "    \n",
    "    X --- This is our Input Data of shape (N, D) where N is number of examples and D is dimensions of one example\n",
    "    Y --- Training Label -- Correct Class for each example of N\n",
    "    learning_rate --- Learning Rate for optimization\n",
    "    Reg --- the regularization constant lambda --- 1e-5\n",
    "    num_iters --- number of epochs\n",
    "    batch_size --- batch size for mini batch gradient descent\n",
    "    verbose (False) --- If true print progress\n",
    "    \n",
    "    Output:\n",
    "    \n",
    "    A list containing loss after each iteration which will be used later for making the cost/iteration graph\n",
    "    '''\n",
    "    \n",
    "    num_train, dim = x.shape\n",
    "    ## assuming that there will be atleast one example of class (k - 1) when there are k classes from (0) to (k-1) \n",
    "    num_classes = np.max(y) + 1\n",
    "    \n",
    "    ## initializing W ...  the W initialized above (outside this function) was there to only to run the\n",
    "    ## svm_loss_vectorized() function for the first time.\n",
    "    W = 0.001 * np.random.randn(dim, num_classes)\n",
    "    \n",
    "    ## Running SGD to optimize the weight matrix W\n",
    "    \n",
    "    ## intializing the loss history list which will by returned by this function \n",
    "    loss_history = []\n",
    "        \n",
    "    for it in range(num_iters):\n",
    "        ## sampling some random indices\n",
    "        sample_indices = np.random.choice(np.arange(num_train), batch_size)\n",
    "        \n",
    "        ## creating the batches\n",
    "        x_batch = x[sample_indices]\n",
    "        y_batch = y[sample_indices]\n",
    "        \n",
    "        ## evaluating loss and gradient\n",
    "        loss,grad = svm_loss_vectorized(W, x_batch, y_batch, reg)\n",
    "        loss_history.append(loss)\n",
    "        \n",
    "        ## chainging the weights\n",
    "        W = W - learning_rate*grad\n",
    "        \n",
    "        ## printing if verbose is true\n",
    "        if(verbose == True and it%100==0):\n",
    "            print('Iteration {}/{} : Loss {}'.format(it,num_iters,loss))\n",
    "            \n",
    "    return loss_history, W\n",
    "\n",
    "## calling the train() function\n",
    "loss_hist, new_W = train(x_train, y_train, learning_rate= 1e-7, reg = 2.5e4, num_iters = 1500, verbose = True)\n",
    "\n",
    "## making new_W equal to W\n",
    "W = new_W"
   ]
  },
  {
   "cell_type": "markdown",
   "metadata": {},
   "source": [
    "## Plotting The Loss History\n",
    "### i.e. Plotting How Loss Changed With Number of Iterations"
   ]
  },
  {
   "cell_type": "code",
   "execution_count": 49,
   "metadata": {},
   "outputs": [
    {
     "data": {
      "image/png": "[encoded data removed]",
      "text/plain": [
       "<Figure size 432x288 with 1 Axes>"
      ]
     },
     "metadata": {
      "needs_background": "light"
     },
     "output_type": "display_data"
    }
   ],
   "source": [
    "## plotting the graph\n",
    "plt.plot(loss_hist)\n",
    "plt.xlabel('Loss')\n",
    "plt.ylabel('Number of Iterations')\n",
    "plt.title('Loss History Graph')\n",
    "plt.show()"
   ]
  },
  {
   "cell_type": "markdown",
   "metadata": {},
   "source": [
    "## Predicting on Training And Validation Set"
   ]
  },
  {
   "cell_type": "code",
   "execution_count": 50,
   "metadata": {},
   "outputs": [
    {
     "name": "stdout",
     "output_type": "stream",
     "text": [
      "Training Accuracy : 0.8699\n",
      "\n",
      "\n",
      "Validation Accuracy : 0.849\n",
      "\n",
      "\n"
     ]
    }
   ],
   "source": [
    "## making a function to return predictions using the trained weights\n",
    "\n",
    "def predict(x):\n",
    "    \n",
    "    ## y_pred must have a shape of (N,1) where N is number of examples in x\n",
    "    y_pred = np.zeros(x.shape[1])\n",
    "    \n",
    "    ## currently y_pred has a shape of (N,C) where C is number of classes in x i.e. this is a collection of 1 hot arrays\n",
    "    y_pred = np.dot(x,W)\n",
    "    \n",
    "    ## converting from 1 hot array into 1 dimensional array  i.e. in a label vector\n",
    "    y_pred = np.argmax(y_pred, axis = 1)\n",
    "    \n",
    "    return y_pred\n",
    "\n",
    "\n",
    "## predictions on the training set\n",
    "\n",
    "y_train_pred = predict(x_train)\n",
    "## calculating training accuracy\n",
    "train_accuracy = np.mean(y_train == y_train_pred)\n",
    "print(\"Training Accuracy : {}\\n\\n\".format(train_accuracy))\n",
    "\n",
    "\n",
    "## predictions on the validation set\n",
    "\n",
    "y_val_pred = predict(x_val)\n",
    "## calculating training accuracy\n",
    "val_accuracy = np.mean(y_val == y_val_pred)\n",
    "print(\"Validation Accuracy : {}\\n\\n\".format(val_accuracy))"
   ]
  },
  {
   "cell_type": "markdown",
   "metadata": {},
   "source": [
    "## Tuning The Hyperparameters\n",
    "### Using the validation set to experiment with different values of learning_rate and regularization parameter "
   ]
  },
  {
   "cell_type": "code",
   "execution_count": 51,
   "metadata": {},
   "outputs": [
    {
     "name": "stdout",
     "output_type": "stream",
     "text": [
      "lr 1.000000e-08 reg 2.500000e+04 train accuracy: 0.693017 val accuracy: 0.644500\n",
      "lr 1.000000e-08 reg 5.000000e+04 train accuracy: 0.783967 val accuracy: 0.751000\n",
      "lr 1.000000e-07 reg 2.500000e+04 train accuracy: 0.870750 val accuracy: 0.845000\n",
      "lr 1.000000e-07 reg 5.000000e+04 train accuracy: 0.856967 val accuracy: 0.834500\n",
      "lr 2.000000e-07 reg 2.500000e+04 train accuracy: 0.871283 val accuracy: 0.849500\n",
      "lr 2.000000e-07 reg 5.000000e+04 train accuracy: 0.856783 val accuracy: 0.831000\n",
      "\n",
      "\n",
      "Best Validation Accuracy Achieved During Cross-Validation: 0.849500\n"
     ]
    }
   ],
   "source": [
    "learning_rates = [1e-8, 1e-7, 2e-7]\n",
    "regularization_strengths = [2.5e4, 5e4]\n",
    "\n",
    "results = {}\n",
    "best_val = -1\n",
    "\n",
    "\n",
    "for lr in learning_rates:\n",
    "    for reg in regularization_strengths:\n",
    "        \n",
    "        loss_hist, W = train(x_train, y_train, learning_rate = lr, reg= reg, num_iters=1500)\n",
    "        \n",
    "        y_train_pred = predict(x_train)\n",
    "        acc_train = np.mean(y_train == y_train_pred)\n",
    "        \n",
    "        y_val_pred = predict(x_val)\n",
    "        acc_val = np.mean(y_val == y_val_pred)\n",
    "        \n",
    "        results[(lr, reg)] = (acc_train, acc_val)\n",
    "        \n",
    "        if acc_val > best_val:\n",
    "            best_val = acc_val\n",
    "\n",
    "for lr, reg in sorted(results):\n",
    "    train_accuracy, val_accuracy = results[(lr, reg)]\n",
    "    print('lr %e reg %e train accuracy: %f val accuracy: %f' % (\n",
    "                lr, reg, train_accuracy, val_accuracy))\n",
    "    \n",
    "print('\\n\\nBest Validation Accuracy Achieved During Cross-Validation: %f' % best_val)"
   ]
  },
  {
   "cell_type": "markdown",
   "metadata": {},
   "source": [
    "## Training the model on best hyperparameters"
   ]
  },
  {
   "cell_type": "code",
   "execution_count": 54,
   "metadata": {},
   "outputs": [],
   "source": [
    "loss_history, W = train(x_train, y_train, learning_rate = 2e-7, reg= 2.5e4, num_iters=1500)"
   ]
  },
  {
   "cell_type": "markdown",
   "metadata": {},
   "source": [
    "## Printing Templates Derived After Training Weights"
   ]
  },
  {
   "cell_type": "code",
   "execution_count": 66,
   "metadata": {},
   "outputs": [
    {
     "data": {
      "image/png": "[encoded data removed]",
      "text/plain": [
       "<Figure size 720x360 with 10 Axes>"
      ]
     },
     "metadata": {
      "needs_background": "light"
     },
     "output_type": "display_data"
    }
   ],
   "source": [
    "## strip out the bias term\n",
    "w = W[:-1, :]\n",
    "w = w.reshape(28, 28, 10)\n",
    "w_min, w_max = np.min(w), np.max(w)\n",
    "\n",
    "## classes list\n",
    "classes = ['0', '1', '2', '3', '4', '5', '6', '7', '8', '9']\n",
    "## number of classes\n",
    "num_classes = len(classes)\n",
    "plt.figure(figsize = (10,5))\n",
    "for i in range(num_classes):\n",
    "    plt.subplot(2, 5, i+1)\n",
    "    \n",
    "    ## rescaling the weights to be between 0 and 255\n",
    "    wimg = 255*(w[:, :, i].squeeze() - w_min) / (w_max - w_min)\n",
    "    plt.imshow(wimg, cmap = plt.cm.binary)\n",
    "    plt.axis('off')\n",
    "    plt.title(classes[i])"
   ]
  }
 ],
 "metadata": {
  "kernelspec": {
   "display_name": "Python 3",
   "language": "python",
   "name": "python3"
  },
  "language_info": {
   "codemirror_mode": {
    "name": "ipython",
    "version": 3
   },
   "file_extension": ".py",
   "mimetype": "text/x-python",
   "name": "python",
   "nbconvert_exporter": "python",
   "pygments_lexer": "ipython3",
   "version": "3.6.1"
  }
 },
 "nbformat": 4,
 "nbformat_minor": 2
}
